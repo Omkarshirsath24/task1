{
 "cells": [
  {
   "cell_type": "code",
   "execution_count": 7,
   "id": "f9c017d5",
   "metadata": {},
   "outputs": [],
   "source": [
    "graph={\n",
    "    'A':['B','C'],\n",
    "    'B':['D','E'],\n",
    "    'C':['F'],\n",
    "    'D':[],\n",
    "    'E':['F'],\n",
    "    'F':[]\n",
    "}"
   ]
  },
  {
   "cell_type": "code",
   "execution_count": 8,
   "id": "58f23681",
   "metadata": {},
   "outputs": [],
   "source": [
    "visited=[]\n",
    "queue=[]"
   ]
  },
  {
   "cell_type": "code",
   "execution_count": 9,
   "id": "f8d25580",
   "metadata": {},
   "outputs": [
    {
     "name": "stdout",
     "output_type": "stream",
     "text": [
      "B D E F "
     ]
    }
   ],
   "source": [
    "def bfs(visited,graph,node):\n",
    "    visited.append(node)\n",
    "    queue.append(node)\n",
    "    while(queue):\n",
    "        s=queue.pop(0)\n",
    "        print(s,end=\" \")\n",
    "        for neighbour in graph[s]:\n",
    "            if neighbour not in visited:\n",
    "                visited.append(neighbour)\n",
    "                queue.append(neighbour)\n",
    "\n",
    "bfs(visited,graph,'B')"
   ]
  },
  {
   "cell_type": "code",
   "execution_count": null,
   "id": "4154cc02",
   "metadata": {},
   "outputs": [],
   "source": [
    "The code defines a graph using a dictionary where each key represents a node, and the corresponding value is a list of nodes that are directly reachable from the key node.\n",
    "\n",
    "The code also initializes two lists:\n",
    "\n",
    "visited: An empty list to keep track of visited nodes.\n",
    "queue: An empty list that acts as a queue to store nodes to be visited in a breadth-first order.\n",
    "The function bfs takes three parameters:\n",
    "\n",
    "visited: A list to keep track of visited nodes.\n",
    "graph: A dictionary representing the graph structure.\n",
    "node: The starting node for the BFS traversal.\n",
    "Here's a step-by-step breakdown of the code:\n",
    "\n",
    "The function starts by appending the node parameter to the visited list using visited.append(node). This marks the starting node as visited.\n",
    "\n",
    "The starting node is then appended to the queue list using queue.append(node). This adds the starting node to the queue to begin the BFS traversal.\n",
    "\n",
    "The code enters a while loop with the condition while(queue), which means the loop continues until the queue is empty.\n",
    "\n",
    "Inside the loop, the first element of the queue is removed using s = queue.pop(0). The pop(0) operation removes and returns the first element in the list, simulating a queue's behavior.\n",
    "\n",
    "The value of the removed node, s, is printed using print(s, end=\" \"). This displays the node value during the traversal.\n",
    "\n",
    "The code then iterates over the neighbors of the current node, s, using the line for neighbour in graph[s]:. It retrieves the list of neighbors connected to the current node from the graph dictionary.\n",
    "\n",
    "For each neighbor, the code checks if it has not been visited before using the condition if neighbour not in visited:. If the neighbor is not visited, the following steps are executed:\n",
    "\n",
    "The neighbor is appended to the visited list using visited.append(neighbour).\n",
    "The neighbor is added to the end of the queue list using queue.append(neighbour). This ensures that the neighbor's neighbors will be visited in the subsequent iterations.\n",
    "The process continues until the queue is empty, and all reachable nodes have been visited.\n",
    "\n",
    "To summarize, the bfs function implements the BFS algorithm by exploring the graph in a breadth-first order, starting from a given node. It uses a queue to keep track of nodes to visit, ensuring that nodes at the same level are visited before moving deeper into the graph. The result is that the nodes are printed in the order they are visited during the BFS traversal. In the provided code, the BFS traversal is initiated from the node 'B' by calling bfs(visited, graph, 'B')."
   ]
  }
 ],
 "metadata": {
  "kernelspec": {
   "display_name": "Python 3 (ipykernel)",
   "language": "python",
   "name": "python3"
  },
  "language_info": {
   "codemirror_mode": {
    "name": "ipython",
    "version": 3
   },
   "file_extension": ".py",
   "mimetype": "text/x-python",
   "name": "python",
   "nbconvert_exporter": "python",
   "pygments_lexer": "ipython3",
   "version": "3.10.9"
  }
 },
 "nbformat": 4,
 "nbformat_minor": 5
}
