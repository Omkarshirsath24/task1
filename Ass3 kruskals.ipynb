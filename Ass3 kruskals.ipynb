{
 "cells": [
  {
   "cell_type": "code",
   "execution_count": 7,
   "id": "165f8678",
   "metadata": {},
   "outputs": [
    {
     "name": "stdout",
     "output_type": "stream",
     "text": [
      "{(1, 3, 1), (2, 3, 4), (0, 3, 3)}\n"
     ]
    }
   ],
   "source": [
    "class Graph:  \n",
    "    def __init__(self, vertices):  \n",
    "        self.vertices = vertices  \n",
    "        self.edges = []  \n",
    "        self.adjacency_list = {v: [] for v in vertices}  # vertex is initializes each vertex as empty list\n",
    "  \n",
    "    def add_edge(self, u, v, weight):  \n",
    "        self.edges.append((u, v, weight))  # u,v,weight are added to list of edges(u,v are vertices)\n",
    "        self.adjacency_list[u].append((v, weight))  \n",
    "        self.adjacency_list[v].append((u, weight))  \n",
    "  \n",
    "    def find_parent(self, parent, i):  \n",
    "        if parent[i] == i:                # used to find the parent,\n",
    "            return i  \n",
    "        return self.find_parent(parent, parent[i])  #here it finds it recursively\n",
    "  \n",
    "    def union(self, parent, rank, x, y):        #union is used to find weather it forms cycle or not\n",
    "        root_x = self.find_parent(parent, x)    #The method finds the root parents of vertices x and y using the find_parent method.\n",
    "        root_y = self.find_parent(parent, y)  \n",
    "        if rank[root_x] < rank[root_y]:  \n",
    "            parent[root_x] = root_y  \n",
    "        elif rank[root_x] > rank[root_y]:  \n",
    "            parent[root_y] = root_x  \n",
    "        else:  \n",
    "            parent[root_y] = root_x  \n",
    "            rank[root_x] += 1  \n",
    "  \n",
    "    def kruskal(self):  \n",
    "        minimum_spanning_tree = set()  \n",
    "        parent = {}  \n",
    "        rank = {}  \n",
    "        for v in self.vertices:  \n",
    "            parent[v] = v  \n",
    "            rank[v] = 0  \n",
    "        sorted_edges = sorted(self.edges, key=lambda x: x[2])  #lambda is used for weight of edge \n",
    "        for edge in sorted_edges:  \n",
    "            u, v, weight = edge  \n",
    "            root_u = self.find_parent(parent, u)  \n",
    "            root_v = self.find_parent(parent, v)  \n",
    "            if root_u != root_v:  \n",
    "                minimum_spanning_tree.add(edge)  \n",
    "                self.union(parent, rank, root_u, root_v)  \n",
    "        return minimum_spanning_tree  \n",
    "vertices = [0, 1, 2, 3]  \n",
    "g = Graph(vertices)  \n",
    "g.add_edge(0, 1, 5)  \n",
    "g.add_edge(0, 2, 10)  \n",
    "g.add_edge(0, 3, 3)  \n",
    "g.add_edge(1, 3, 1)  \n",
    "g.add_edge(2, 3, 4)  \n",
    "minimum_spanning_tree = g.kruskal()  \n",
    "print(minimum_spanning_tree)  \n",
    "\n",
    "#Sort all the edges in non-decreasing order of their weight. \n",
    "#Pick the smallest edge. Check if it forms a cycle with the spanning tree formed so far. If the cycle is not formed, include this edge. Else, discard it. \n",
    "#Repeat step#2 until there are (V-1) edges in the spanning tree."
   ]
  },
  {
   "cell_type": "code",
   "execution_count": null,
   "id": "21873d54",
   "metadata": {},
   "outputs": [],
   "source": []
  }
 ],
 "metadata": {
  "kernelspec": {
   "display_name": "Python 3 (ipykernel)",
   "language": "python",
   "name": "python3"
  },
  "language_info": {
   "codemirror_mode": {
    "name": "ipython",
    "version": 3
   },
   "file_extension": ".py",
   "mimetype": "text/x-python",
   "name": "python",
   "nbconvert_exporter": "python",
   "pygments_lexer": "ipython3",
   "version": "3.10.9"
  }
 },
 "nbformat": 4,
 "nbformat_minor": 5
}
